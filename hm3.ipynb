{
 "cells": [
  {
   "cell_type": "code",
   "execution_count": 123,
   "metadata": {},
   "outputs": [],
   "source": [
    "import pandas as pd\n",
    "import pickle\n",
    "import numpy as np\n",
    "from scipy import sparse\n",
    "import matplotlib.pyplot as plt\n",
    "import requests\n",
    "from sklearn.linear_model import Ridge\n",
    "import scipy.stats as sts\n",
    "from scipy.special import expit as sigmoid"
   ]
  },
  {
   "cell_type": "markdown",
   "metadata": {},
   "source": [
    "## 1. Прочитайте и проанализируйте данные\n"
   ]
  },
  {
   "cell_type": "code",
   "execution_count": 2,
   "metadata": {},
   "outputs": [],
   "source": [
    "# with open('chgk/players.pkl', 'rb') as f:\n",
    "#     names = pickle.load(f)\n",
    "with open('chgk/results.pkl', 'rb') as f:\n",
    "    results = pickle.load(f)\n",
    "with open('chgk/tournaments.pkl', 'rb') as f:\n",
    "    tournaments = pickle.load(f)"
   ]
  },
  {
   "cell_type": "code",
   "execution_count": 3,
   "metadata": {},
   "outputs": [],
   "source": [
    "tournaments_pd = pd.DataFrame(tournaments.values())\n",
    "tournaments_pd['dateStart'] =  pd.to_datetime(tournaments_pd.dateStart.apply(lambda x: x.split('T')[0]))\n",
    "tournaments_pd.sort_values('dateStart', inplace=True)"
   ]
  },
  {
   "cell_type": "code",
   "execution_count": 4,
   "metadata": {},
   "outputs": [
    {
     "name": "stderr",
     "output_type": "stream",
     "text": [
      "D:\\Anaconda3\\lib\\site-packages\\pandas\\core\\generic.py:5303: SettingWithCopyWarning: \n",
      "A value is trying to be set on a copy of a slice from a DataFrame.\n",
      "Try using .loc[row_indexer,col_indexer] = value instead\n",
      "\n",
      "See the caveats in the documentation: https://pandas.pydata.org/pandas-docs/stable/user_guide/indexing.html#returning-a-view-versus-a-copy\n",
      "  self[name] = value\n",
      "D:\\Anaconda3\\lib\\site-packages\\ipykernel_launcher.py:12: SettingWithCopyWarning: \n",
      "A value is trying to be set on a copy of a slice from a DataFrame.\n",
      "Try using .loc[row_indexer,col_indexer] = value instead\n",
      "\n",
      "See the caveats in the documentation: https://pandas.pydata.org/pandas-docs/stable/user_guide/indexing.html#returning-a-view-versus-a-copy\n",
      "  if sys.path[0] == '':\n",
      "D:\\Anaconda3\\lib\\site-packages\\ipykernel_launcher.py:13: SettingWithCopyWarning: \n",
      "A value is trying to be set on a copy of a slice from a DataFrame.\n",
      "Try using .loc[row_indexer,col_indexer] = value instead\n",
      "\n",
      "See the caveats in the documentation: https://pandas.pydata.org/pandas-docs/stable/user_guide/indexing.html#returning-a-view-versus-a-copy\n",
      "  del sys.path[0]\n"
     ]
    }
   ],
   "source": [
    "def make_one_hot_type(id_):\n",
    "    zer = np.zeros((9))\n",
    "    zer[id_] = 1\n",
    "    return zer\n",
    "\n",
    "train_tour = tournaments_pd[(tournaments_pd.dateStart < '2020') & (tournaments_pd.dateStart >= '2019')]\n",
    "test_tour = tournaments_pd[(tournaments_pd.dateStart >= '2020')]\n",
    "\n",
    "train_tour.type = train_tour.type.apply(lambda x: make_one_hot_type(x['id']))\n",
    "test_tour.type = test_tour.type.apply(lambda x: make_one_hot_type(x['id']))\n",
    "\n",
    "train_tour['total_questions'] = train_tour.questionQty.apply(lambda x: sum(list(x.values())))\n",
    "test_tour['total_questions'] = test_tour.questionQty.apply(lambda x: sum(list(x.values())))\n",
    "\n",
    "# возьмем самые часто-встречающися турниры\n",
    "test_tour = test_tour[test_tour.total_questions == 36]\n",
    "train_tour = train_tour[train_tour.total_questions == 36]"
   ]
  },
  {
   "cell_type": "code",
   "execution_count": 30,
   "metadata": {},
   "outputs": [
    {
     "data": {
      "text/plain": [
       "36    392\n",
       "45     64\n",
       "60     35\n",
       "39     28\n",
       "90     28\n",
       "Name: total_questions, dtype: int64"
      ]
     },
     "execution_count": 30,
     "metadata": {},
     "output_type": "execute_result"
    }
   ],
   "source": [
    "# train_tour.total_questions.value_counts().head()\n",
    "# оставим игры где было только 36 вопросов (чтобы итоговые матрицы влезли в память)"
   ]
  },
  {
   "cell_type": "code",
   "execution_count": 5,
   "metadata": {},
   "outputs": [],
   "source": [
    "del tournaments_pd\n",
    "del tournaments"
   ]
  },
  {
   "cell_type": "code",
   "execution_count": 6,
   "metadata": {},
   "outputs": [],
   "source": [
    "# вытащим результаты\n",
    "known_teams_results = []\n",
    "for tour_id, team_reslut in results.items():\n",
    "    for team in team_reslut:\n",
    "        if ('mask' in team.keys()) and ('teamMembers' in team.keys()) and (team['mask'] is not None) and len(team['teamMembers']) > 0:\n",
    "#             не знаю что значат эти символы поэтому лучше их убрать \n",
    "            if not ('X' in team['mask'] or '?'  in team['mask']):\n",
    "                team['tour_id'] = tour_id\n",
    "                known_teams_results.append(team)"
   ]
  },
  {
   "cell_type": "code",
   "execution_count": 7,
   "metadata": {},
   "outputs": [],
   "source": [
    "teams = pd.DataFrame(known_teams_results)\n",
    "teams = teams[teams.tour_id.isin(train_tour.id)]"
   ]
  },
  {
   "cell_type": "code",
   "execution_count": 9,
   "metadata": {},
   "outputs": [],
   "source": [
    "players_set = set()\n",
    "for team in teams.teamMembers.values:\n",
    "    for player in team:\n",
    "        players_set.add(player['player']['id'])"
   ]
  },
  {
   "cell_type": "code",
   "execution_count": 10,
   "metadata": {},
   "outputs": [
    {
     "name": "stdout",
     "output_type": "stream",
     "text": [
      "Всего уникальных игроков в трейне 49504\n"
     ]
    }
   ],
   "source": [
    "print('Всего уникальных игроков в трейне', len(players_set))"
   ]
  },
  {
   "cell_type": "code",
   "execution_count": 47,
   "metadata": {},
   "outputs": [],
   "source": [
    "# делаем словарики для one-hot векторов\n",
    "id_vec_to_id = {i:id_ for i, id_ in enumerate(players_set)}\n",
    "id_to_id_vec = {id_:i for i, id_ in enumerate(players_set)}"
   ]
  },
  {
   "cell_type": "markdown",
   "metadata": {},
   "source": [
    "Бейзлайн - линейная регрессия, где X - это вектор команды (длинной 49504) , а target это вектор суммы one-hot векторов вопросов этого турнира"
   ]
  },
  {
   "cell_type": "code",
   "execution_count": 12,
   "metadata": {},
   "outputs": [],
   "source": [
    "# с большими матрицами тут возникают большие проблемы с лин-регом из коробки\n",
    "y = sparse.lil_matrix((teams.shape[0], train_tour.shape[0]*36),  dtype=float)\n",
    "\n",
    "start_tour = 4772\n",
    "counter = 0\n",
    "for i in range(len(teams)):\n",
    "    current_ans = list(teams['mask'].values[i])\n",
    "    if teams['tour_id'].values[i] != start_tour:\n",
    "        counter += 36\n",
    "        start_tour = teams['tour_id'].values[i]\n",
    "        \n",
    "    for result in range(len(current_ans)):\n",
    "        y[i, result+counter] = int(current_ans[result])"
   ]
  },
  {
   "cell_type": "code",
   "execution_count": 49,
   "metadata": {},
   "outputs": [],
   "source": [
    "X = sparse.lil_matrix((teams.shape[0], len(players_set)),  dtype=int)\n",
    "for i in range(len(teams)):\n",
    "    for player in teams.teamMembers.values[i]:\n",
    "        X[i, id_to_id_vec[player['player']['id']]] = 1"
   ]
  },
  {
   "cell_type": "code",
   "execution_count": 50,
   "metadata": {},
   "outputs": [],
   "source": [
    "assert X.shape[0] == y.shape[0]"
   ]
  },
  {
   "cell_type": "code",
   "execution_count": 18,
   "metadata": {
    "collapsed": true
   },
   "outputs": [
    {
     "ename": "AttributeError",
     "evalue": "'matrix' object has no attribute 'todense'",
     "output_type": "error",
     "traceback": [
      "\u001b[1;31m---------------------------------------------------------------------------\u001b[0m",
      "\u001b[1;31mAttributeError\u001b[0m                            Traceback (most recent call last)",
      "\u001b[1;32m<ipython-input-18-0c293c95510b>\u001b[0m in \u001b[0;36m<module>\u001b[1;34m\u001b[0m\n\u001b[1;32m----> 1\u001b[1;33m \u001b[0my\u001b[0m \u001b[1;33m=\u001b[0m \u001b[0my\u001b[0m\u001b[1;33m.\u001b[0m\u001b[0mtodense\u001b[0m\u001b[1;33m(\u001b[0m\u001b[1;33m)\u001b[0m\u001b[1;33m\u001b[0m\u001b[1;33m\u001b[0m\u001b[0m\n\u001b[0m",
      "\u001b[1;31mAttributeError\u001b[0m: 'matrix' object has no attribute 'todense'"
     ]
    }
   ],
   "source": [
    "y = y.todense()"
   ]
  },
  {
   "cell_type": "code",
   "execution_count": 51,
   "metadata": {},
   "outputs": [],
   "source": [
    "# одна итерация шла очень долго, поэтому из за нехватки времени получается недообученная штука\n",
    "lr = Ridge(max_iter=1)"
   ]
  },
  {
   "cell_type": "code",
   "execution_count": 52,
   "metadata": {},
   "outputs": [
    {
     "name": "stderr",
     "output_type": "stream",
     "text": [
      "D:\\Anaconda3\\lib\\site-packages\\sklearn\\linear_model\\sag.py:337: ConvergenceWarning: The max_iter was reached which means the coef_ did not converge\n",
      "  \"the coef_ did not converge\", ConvergenceWarning)\n"
     ]
    },
    {
     "data": {
      "text/plain": [
       "Ridge(alpha=1.0, copy_X=True, fit_intercept=True, max_iter=1, normalize=False,\n",
       "      random_state=None, solver='auto', tol=0.001)"
      ]
     },
     "execution_count": 52,
     "metadata": {},
     "output_type": "execute_result"
    }
   ],
   "source": [
    "lr.fit(X,y)"
   ]
  },
  {
   "cell_type": "code",
   "execution_count": 53,
   "metadata": {},
   "outputs": [
    {
     "data": {
      "text/plain": [
       "(array([9.0000e+00, 1.0500e+02, 2.4570e+03, 2.7140e+04, 1.5399e+04,\n",
       "        3.4850e+03, 7.7600e+02, 1.1600e+02, 1.3000e+01, 4.0000e+00]),\n",
       " array([-5.26103072, -3.93173671, -2.60244271, -1.2731487 ,  0.0561453 ,\n",
       "         1.38543931,  2.71473331,  4.04402732,  5.37332132,  6.70261532,\n",
       "         8.03190933]),\n",
       " <a list of 10 Patch objects>)"
      ]
     },
     "execution_count": 53,
     "metadata": {},
     "output_type": "execute_result"
    },
    {
     "data": {
      "image/png": "[encoded data removed]",
      "text/plain": [
       "<Figure size 432x288 with 1 Axes>"
      ]
     },
     "metadata": {
      "needs_background": "light"
     },
     "output_type": "display_data"
    }
   ],
   "source": [
    "# распредление \"сил\" игроков\n",
    "plt.hist(lr.coef_.sum(axis=0))"
   ]
  },
  {
   "cell_type": "code",
   "execution_count": 54,
   "metadata": {},
   "outputs": [],
   "source": [
    "# силы игроков и сложность вопросов\n",
    "pl_rate = lr.coef_.sum(axis=0)\n",
    "question_rate = lr.coef_.sum(axis=1)"
   ]
  },
  {
   "cell_type": "code",
   "execution_count": 56,
   "metadata": {},
   "outputs": [],
   "source": [
    "array_pl_rate = [(id_vec_to_id[i], score) for i, score in enumerate(pl_rate)]\n",
    "array_pl_rate = sorted(array_pl_rate, key=lambda x: x[1], reverse=True)"
   ]
  },
  {
   "cell_type": "code",
   "execution_count": 77,
   "metadata": {},
   "outputs": [],
   "source": [
    "def get_player_position(id_):\n",
    "    url = f'https://rating.chgk.info/api/players/{id_}/rating/last'\n",
    "    position = int(requests.get(url).json()['rating_position'])\n",
    "    return position"
   ]
  },
  {
   "cell_type": "code",
   "execution_count": 65,
   "metadata": {},
   "outputs": [],
   "source": [
    "# посмотрим насколько удачно получилось составить рейтинг\n",
    "df_rating = pd.DataFrame(array_pl_rate, columns=['id', 'score'])[:50]\n",
    "df_rating['actual_position'] = df_rating['id'].apply(get_player_position)"
   ]
  },
  {
   "cell_type": "code",
   "execution_count": 74,
   "metadata": {},
   "outputs": [
    {
     "data": {
      "text/html": [
       "<div>\n",
       "<style scoped>\n",
       "    .dataframe tbody tr th:only-of-type {\n",
       "        vertical-align: middle;\n",
       "    }\n",
       "\n",
       "    .dataframe tbody tr th {\n",
       "        vertical-align: top;\n",
       "    }\n",
       "\n",
       "    .dataframe thead th {\n",
       "        text-align: right;\n",
       "    }\n",
       "</style>\n",
       "<table border=\"1\" class=\"dataframe\">\n",
       "  <thead>\n",
       "    <tr style=\"text-align: right;\">\n",
       "      <th></th>\n",
       "      <th>id</th>\n",
       "      <th>score</th>\n",
       "      <th>actual_position</th>\n",
       "    </tr>\n",
       "  </thead>\n",
       "  <tbody>\n",
       "    <tr>\n",
       "      <th>1</th>\n",
       "      <td>18332</td>\n",
       "      <td>7.312199</td>\n",
       "      <td>7</td>\n",
       "    </tr>\n",
       "    <tr>\n",
       "      <th>3</th>\n",
       "      <td>5990</td>\n",
       "      <td>7.194615</td>\n",
       "      <td>20</td>\n",
       "    </tr>\n",
       "    <tr>\n",
       "      <th>33</th>\n",
       "      <td>28751</td>\n",
       "      <td>4.991755</td>\n",
       "      <td>2</td>\n",
       "    </tr>\n",
       "  </tbody>\n",
       "</table>\n",
       "</div>"
      ],
      "text/plain": [
       "       id     score  actual_position\n",
       "1   18332  7.312199                7\n",
       "3    5990  7.194615               20\n",
       "33  28751  4.991755                2"
      ]
     },
     "execution_count": 74,
     "metadata": {},
     "output_type": "execute_result"
    }
   ],
   "source": [
    "df_rating[df_rating.actual_position < 50]"
   ]
  },
  {
   "cell_type": "code",
   "execution_count": 75,
   "metadata": {},
   "outputs": [],
   "source": [
    "# Всего три человека попали в актуальный топ 50\n",
    "# но это можно объяснить андерфитом и не отсечением людей сыгравших больше 1000 вопросов"
   ]
  },
  {
   "cell_type": "markdown",
   "metadata": {},
   "source": [
    "## 3. Оценка качества\n",
    "Будем считать суммарный вес команды (по коэффициентам, предварительно выкинув неизвестных участников), позиции в итоговом зачете будем считать позициями в отсортированом массиве весов"
   ]
  },
  {
   "cell_type": "code",
   "execution_count": 103,
   "metadata": {},
   "outputs": [],
   "source": [
    "test_teams = pd.DataFrame(known_teams_results)\n",
    "test_teams = test_teams[test_teams.tour_id.isin(test_tour.id)]"
   ]
  },
  {
   "cell_type": "code",
   "execution_count": 95,
   "metadata": {},
   "outputs": [],
   "source": [
    "cumml_rating = []\n",
    "for team in test_teams.teamMembers.values:\n",
    "    team_rate = 0\n",
    "    for member in team:\n",
    "        if id_to_id_vec.get(member['player']['id']):\n",
    "            team_rate += pl_rate[id_to_id_vec[member['player']['id']]]\n",
    "    cumml_rating.append(team_rate)"
   ]
  },
  {
   "cell_type": "code",
   "execution_count": 104,
   "metadata": {
    "scrolled": true
   },
   "outputs": [],
   "source": [
    "test_teams['sum_rate'] = cumml_rating"
   ]
  },
  {
   "cell_type": "code",
   "execution_count": 105,
   "metadata": {},
   "outputs": [],
   "source": [
    "test_teams.sort_values(['tour_id','sum_rate'], inplace=True)"
   ]
  },
  {
   "cell_type": "code",
   "execution_count": 115,
   "metadata": {},
   "outputs": [],
   "source": [
    "pred_pos = []\n",
    "for tour_id in test_teams['tour_id'].unique():\n",
    "    tour_teams_len = test_teams[test_teams.tour_id == tour_id].shape[0]\n",
    "    pred_pos.append(list(range(tour_teams_len, 0, -1)))  \n",
    "pred_pos = sum(pred_pos, [])\n",
    "test_teams['pred_pos'] = pred_pos"
   ]
  },
  {
   "cell_type": "markdown",
   "metadata": {},
   "source": [
    "А корреляции получились очень даже ничего!"
   ]
  },
  {
   "cell_type": "code",
   "execution_count": 127,
   "metadata": {},
   "outputs": [
    {
     "name": "stdout",
     "output_type": "stream",
     "text": [
      "Корреляция Спирмена: 0.8410886802038086\n"
     ]
    }
   ],
   "source": [
    "print('Корреляция Спирмена:', sts.spearmanr(test_teams['position'].values, test_teams['pred_pos'].values).correlation)"
   ]
  },
  {
   "cell_type": "code",
   "execution_count": 128,
   "metadata": {},
   "outputs": [
    {
     "name": "stdout",
     "output_type": "stream",
     "text": [
      "Корреляция Кендалла: 0.6648913092835894\n"
     ]
    }
   ],
   "source": [
    "print('Корреляция Кендалла:', sts.kendalltau(test_teams['position'].values, test_teams['pred_pos'].values).correlation)"
   ]
  },
  {
   "cell_type": "markdown",
   "metadata": {},
   "source": [
    "## 4. EM-алгоритм\n"
   ]
  },
  {
   "cell_type": "markdown",
   "metadata": {},
   "source": [
    "Попробуем вернуться к задаче классификации и скорректировать силы наших игроков. Попытаемся найти вероятность правильного ответа ИГРОКА при условии правильного ответа КОМАНДЫ."
   ]
  },
  {
   "cell_type": "markdown",
   "metadata": {},
   "source": [
    "p(игрок=1 | команда=1) = p(игрок=1) * p(команды=1|игрок=1) / p (команды)"
   ]
  },
  {
   "cell_type": "markdown",
   "metadata": {},
   "source": [
    "Предположим что наш игрок капитан, что команда всегда отвечает правильно, если игрок ответил правильно\n"
   ]
  },
  {
   "cell_type": "markdown",
   "metadata": {},
   "source": [
    "П = p(игрок=1 | команда=1) = p(игрок=1) * 1 / p (команды)"
   ]
  },
  {
   "cell_type": "markdown",
   "metadata": {},
   "source": [
    "Е-шаг - вычисление вероятности П\n",
    "\n",
    "М-шаг - обучение логистической регрессии и обновление вероятностей  p(игрок=1) / p (команды)"
   ]
  },
  {
   "cell_type": "code",
   "execution_count": 144,
   "metadata": {},
   "outputs": [],
   "source": [
    "X_lil_ = sparse.lil_matrix((X.shape[0]*36, len(players_set)),  dtype=int)"
   ]
  },
  {
   "cell_type": "code",
   "execution_count": 149,
   "metadata": {},
   "outputs": [],
   "source": [
    "counter = 0\n",
    "for i in range(len(teams)):\n",
    "    for j in range(36):\n",
    "        for player in teams.teamMembers.values[i]:\n",
    "            X_lil_[36*i + j, id_to_id_vec[player['player']['id']]] = 1"
   ]
  },
  {
   "cell_type": "code",
   "execution_count": 165,
   "metadata": {},
   "outputs": [],
   "source": [
    "y = np.zeros((teams['mask'].shape[0] * 36))\n",
    "for j, i in enumerate(teams['mask'].values):\n",
    "    if j != 27723:\n",
    "        y[j*36 : j*36 + 36] = list(map(int, i))        "
   ]
  },
  {
   "cell_type": "code",
   "execution_count": 179,
   "metadata": {},
   "outputs": [],
   "source": [
    "class LogReg:\n",
    "    def __init__(self, w):\n",
    "        self.w = np.hstack((np.ones((1)), w))\n",
    "        \n",
    "    def fit(self, X, y, max_iters=10):\n",
    "        X = sparse.hstack([np.ones(len(y)).reshape(-1, 1), X], format='csr')     \n",
    "        losses = []\n",
    "        prev_mean_loss = np.inf\n",
    "        \n",
    "        for i in range(max_iters):\n",
    "            batch_idxs = np.random.choice(X.shape[0], 1024)\n",
    "            X_batch = X[batch_idxs, :]\n",
    "            y_batch = y[batch_idxs]\n",
    "            preds = sigmoid(X_batch.dot(self.w))\n",
    "            losses.append(self.logloss(y_batch, preds))\n",
    "            if (i + 1) % 1024 == 0:\n",
    "                new_mean_loss = np.mean(losses)\n",
    "                if (prev_mean_loss - new_mean_loss) < 0.000001:\n",
    "                    break                    \n",
    "                losses = []\n",
    "                prev_mean_loss = new_mean_loss\n",
    "\n",
    "            grad = -X_batch.T.dot(y_batch - preds) / len(y_batch)\n",
    "            self.w -= 5 * grad \n",
    "    \n",
    "    def predict_proba(self, X):\n",
    "        X = sparse.hstack([np.ones(X.shape[0]).reshape(-1, 1), X])\n",
    "        preds = sigmoid(X.dot(self.w))\n",
    "        return np.hstack(((1 - preds).reshape(-1, 1), preds.reshape(-1, 1)))\n",
    "    \n",
    "    def logloss(y, p):\n",
    "        return -np.mean(y * np.log(p) + (1 - y) * np.log(1 - p))"
   ]
  },
  {
   "cell_type": "code",
   "execution_count": 216,
   "metadata": {},
   "outputs": [],
   "source": [
    "estimator = LogReg(pl_rate)\n",
    "estimator.fit(X_lil_, y)"
   ]
  },
  {
   "cell_type": "code",
   "execution_count": 217,
   "metadata": {},
   "outputs": [
    {
     "name": "stdout",
     "output_type": "stream",
     "text": [
      "Корреляция Спирмена: 0.8743700086530591\n",
      "Корреляция Кендалла: 0.6992005506038511\n",
      "Корреляция Спирмена: 0.8734222438368548\n",
      "Корреляция Кендалла: 0.6983535757017642\n",
      "Корреляция Спирмена: 0.8725383703432718\n",
      "Корреляция Кендалла: 0.69752700236108344\n"
     ]
    }
   ],
   "source": [
    "for _ in range(3):\n",
    "    \n",
    "    preds = estimator.predict_proba(X_lil_)\n",
    "    \n",
    "    for i in range(0, preds.shape[0], 36):\n",
    "        preds[i:i+36] /= preds[i:i+36].sum(axis=0)/36\n",
    "    z = (preds[:, 0]).clip(0, 1)\n",
    "    z[y == 0] = 0\n",
    "    estimator.fit(X_lil_, z)\n",
    "    \n",
    "    \n",
    "    test_teams = pd.DataFrame(known_teams_results)\n",
    "    test_teams = test_teams[test_teams.tour_id.isin(test_tour.id)]\n",
    "    \n",
    "    cumml_rating = []\n",
    "    for team in test_teams.teamMembers.values:\n",
    "        team_rate = 0\n",
    "        for member in team:\n",
    "            if id_to_id_vec.get(member['player']['id']):\n",
    "                team_rate += estimator.w[id_to_id_vec[member['player']['id']]]\n",
    "        cumml_rating.append(team_rate)\n",
    "    test_teams['sum_rate'] = cumml_rating\n",
    "    test_teams.sort_values(['tour_id','sum_rate'], inplace=True)\n",
    "    pred_pos = []\n",
    "    for tour_id in test_teams['tour_id'].unique():\n",
    "        tour_teams_len = test_teams[test_teams.tour_id == tour_id].shape[0]\n",
    "        pred_pos.append(list(range(tour_teams_len, 0, -1)))  \n",
    "    pred_pos = sum(pred_pos, [])\n",
    "    test_teams['pred_pos'] = pred_pos\n",
    "    print('Корреляция Спирмена:', sts.spearmanr(test_teams['position'].values, test_teams['pred_pos'].values).correlation)\n",
    "    print('Корреляция Кендалла:', sts.kendalltau(test_teams['position'].values, test_teams['pred_pos'].values).correlation)"
   ]
  },
  {
   "cell_type": "markdown",
   "metadata": {},
   "source": [
    "Немного выросла, но начала убывать\n",
    "Возможно кривая реализация"
   ]
  },
  {
   "cell_type": "markdown",
   "metadata": {},
   "source": [
    "## 5. Рейтинг турниров по сложности вопросов\n"
   ]
  },
  {
   "cell_type": "code",
   "execution_count": 222,
   "metadata": {},
   "outputs": [],
   "source": [
    "array_question_rate = [(i, score) for i, score in enumerate(question_rate)]\n",
    "array_question_rate = sorted(array_question_rate, key=lambda x: x[1], reverse=True)"
   ]
  },
  {
   "cell_type": "code",
   "execution_count": 253,
   "metadata": {},
   "outputs": [],
   "source": [
    "q_f = pd.DataFrame(list(map(lambda x: x[0]//36, array_question_rate))).drop_duplicates()"
   ]
  },
  {
   "cell_type": "code",
   "execution_count": 254,
   "metadata": {},
   "outputs": [],
   "source": [
    "new_f = train_tour.reset_index(drop=True).reset_index()"
   ]
  },
  {
   "cell_type": "code",
   "execution_count": 260,
   "metadata": {},
   "outputs": [
    {
     "data": {
      "text/html": [
       "<div>\n",
       "<style scoped>\n",
       "    .dataframe tbody tr th:only-of-type {\n",
       "        vertical-align: middle;\n",
       "    }\n",
       "\n",
       "    .dataframe tbody tr th {\n",
       "        vertical-align: top;\n",
       "    }\n",
       "\n",
       "    .dataframe thead th {\n",
       "        text-align: right;\n",
       "    }\n",
       "</style>\n",
       "<table border=\"1\" class=\"dataframe\">\n",
       "  <thead>\n",
       "    <tr style=\"text-align: right;\">\n",
       "      <th></th>\n",
       "      <th>0</th>\n",
       "    </tr>\n",
       "  </thead>\n",
       "  <tbody>\n",
       "    <tr>\n",
       "      <th>0</th>\n",
       "      <td>286</td>\n",
       "    </tr>\n",
       "    <tr>\n",
       "      <th>8</th>\n",
       "      <td>290</td>\n",
       "    </tr>\n",
       "    <tr>\n",
       "      <th>23</th>\n",
       "      <td>190</td>\n",
       "    </tr>\n",
       "    <tr>\n",
       "      <th>24</th>\n",
       "      <td>291</td>\n",
       "    </tr>\n",
       "    <tr>\n",
       "      <th>27</th>\n",
       "      <td>214</td>\n",
       "    </tr>\n",
       "    <tr>\n",
       "      <th>...</th>\n",
       "      <td>...</td>\n",
       "    </tr>\n",
       "    <tr>\n",
       "      <th>8965</th>\n",
       "      <td>312</td>\n",
       "    </tr>\n",
       "    <tr>\n",
       "      <th>9078</th>\n",
       "      <td>255</td>\n",
       "    </tr>\n",
       "    <tr>\n",
       "      <th>9798</th>\n",
       "      <td>251</td>\n",
       "    </tr>\n",
       "    <tr>\n",
       "      <th>13836</th>\n",
       "      <td>178</td>\n",
       "    </tr>\n",
       "    <tr>\n",
       "      <th>14043</th>\n",
       "      <td>39</td>\n",
       "    </tr>\n",
       "  </tbody>\n",
       "</table>\n",
       "<p>392 rows × 1 columns</p>\n",
       "</div>"
      ],
      "text/plain": [
       "         0\n",
       "0      286\n",
       "8      290\n",
       "23     190\n",
       "24     291\n",
       "27     214\n",
       "...    ...\n",
       "8965   312\n",
       "9078   255\n",
       "9798   251\n",
       "13836  178\n",
       "14043   39\n",
       "\n",
       "[392 rows x 1 columns]"
      ]
     },
     "execution_count": 260,
     "metadata": {},
     "output_type": "execute_result"
    }
   ],
   "source": [
    "q_f"
   ]
  },
  {
   "cell_type": "markdown",
   "metadata": {},
   "source": [
    "### Самые простые турниры"
   ]
  },
  {
   "cell_type": "code",
   "execution_count": 259,
   "metadata": {},
   "outputs": [
    {
     "data": {
      "text/html": [
       "<div>\n",
       "<style scoped>\n",
       "    .dataframe tbody tr th:only-of-type {\n",
       "        vertical-align: middle;\n",
       "    }\n",
       "\n",
       "    .dataframe tbody tr th {\n",
       "        vertical-align: top;\n",
       "    }\n",
       "\n",
       "    .dataframe thead th {\n",
       "        text-align: right;\n",
       "    }\n",
       "</style>\n",
       "<table border=\"1\" class=\"dataframe\">\n",
       "  <thead>\n",
       "    <tr style=\"text-align: right;\">\n",
       "      <th></th>\n",
       "      <th>index</th>\n",
       "      <th>id</th>\n",
       "      <th>name</th>\n",
       "      <th>dateStart</th>\n",
       "      <th>dateEnd</th>\n",
       "      <th>type</th>\n",
       "      <th>season</th>\n",
       "      <th>orgcommittee</th>\n",
       "      <th>synchData</th>\n",
       "      <th>questionQty</th>\n",
       "      <th>total_questions</th>\n",
       "    </tr>\n",
       "  </thead>\n",
       "  <tbody>\n",
       "    <tr>\n",
       "      <th>286</th>\n",
       "      <td>286</td>\n",
       "      <td>5994</td>\n",
       "      <td>Открытая лига КФУ</td>\n",
       "      <td>2019-10-12</td>\n",
       "      <td>2020-02-22T19:00:00+03:00</td>\n",
       "      <td>[0.0, 0.0, 1.0, 0.0, 0.0, 0.0, 0.0, 0.0, 0.0]</td>\n",
       "      <td>/seasons/53</td>\n",
       "      <td>[{'id': 46976, 'name': 'Мансур', 'patronymic':...</td>\n",
       "      <td>None</td>\n",
       "      <td>{'1': 12, '2': 12, '3': 12}</td>\n",
       "      <td>36</td>\n",
       "    </tr>\n",
       "  </tbody>\n",
       "</table>\n",
       "</div>"
      ],
      "text/plain": [
       "     index    id               name  dateStart                    dateEnd  \\\n",
       "286    286  5994  Открытая лига КФУ 2019-10-12  2020-02-22T19:00:00+03:00   \n",
       "\n",
       "                                              type       season  \\\n",
       "286  [0.0, 0.0, 1.0, 0.0, 0.0, 0.0, 0.0, 0.0, 0.0]  /seasons/53   \n",
       "\n",
       "                                          orgcommittee synchData  \\\n",
       "286  [{'id': 46976, 'name': 'Мансур', 'patronymic':...      None   \n",
       "\n",
       "                     questionQty  total_questions  \n",
       "286  {'1': 12, '2': 12, '3': 12}               36  "
      ]
     },
     "execution_count": 259,
     "metadata": {},
     "output_type": "execute_result"
    }
   ],
   "source": [
    "new_f[new_f.index == 286]"
   ]
  },
  {
   "cell_type": "code",
   "execution_count": 261,
   "metadata": {},
   "outputs": [
    {
     "data": {
      "text/html": [
       "<div>\n",
       "<style scoped>\n",
       "    .dataframe tbody tr th:only-of-type {\n",
       "        vertical-align: middle;\n",
       "    }\n",
       "\n",
       "    .dataframe tbody tr th {\n",
       "        vertical-align: top;\n",
       "    }\n",
       "\n",
       "    .dataframe thead th {\n",
       "        text-align: right;\n",
       "    }\n",
       "</style>\n",
       "<table border=\"1\" class=\"dataframe\">\n",
       "  <thead>\n",
       "    <tr style=\"text-align: right;\">\n",
       "      <th></th>\n",
       "      <th>index</th>\n",
       "      <th>id</th>\n",
       "      <th>name</th>\n",
       "      <th>dateStart</th>\n",
       "      <th>dateEnd</th>\n",
       "      <th>type</th>\n",
       "      <th>season</th>\n",
       "      <th>orgcommittee</th>\n",
       "      <th>synchData</th>\n",
       "      <th>questionQty</th>\n",
       "      <th>total_questions</th>\n",
       "    </tr>\n",
       "  </thead>\n",
       "  <tbody>\n",
       "    <tr>\n",
       "      <th>290</th>\n",
       "      <td>290</td>\n",
       "      <td>5751</td>\n",
       "      <td>Балтийский Берег. 1 игра</td>\n",
       "      <td>2019-10-17</td>\n",
       "      <td>2019-10-23T23:55:00+03:00</td>\n",
       "      <td>[0.0, 0.0, 0.0, 1.0, 0.0, 0.0, 0.0, 0.0, 0.0]</td>\n",
       "      <td>/seasons/53</td>\n",
       "      <td>[{'id': 23030, 'name': 'Марина', 'patronymic':...</td>\n",
       "      <td>{'dateRequestsAllowedTo': '2019-10-22T23:59:59...</td>\n",
       "      <td>{'1': 12, '2': 12, '3': 12}</td>\n",
       "      <td>36</td>\n",
       "    </tr>\n",
       "  </tbody>\n",
       "</table>\n",
       "</div>"
      ],
      "text/plain": [
       "     index    id                      name  dateStart  \\\n",
       "290    290  5751  Балтийский Берег. 1 игра 2019-10-17   \n",
       "\n",
       "                       dateEnd                                           type  \\\n",
       "290  2019-10-23T23:55:00+03:00  [0.0, 0.0, 0.0, 1.0, 0.0, 0.0, 0.0, 0.0, 0.0]   \n",
       "\n",
       "          season                                       orgcommittee  \\\n",
       "290  /seasons/53  [{'id': 23030, 'name': 'Марина', 'patronymic':...   \n",
       "\n",
       "                                             synchData  \\\n",
       "290  {'dateRequestsAllowedTo': '2019-10-22T23:59:59...   \n",
       "\n",
       "                     questionQty  total_questions  \n",
       "290  {'1': 12, '2': 12, '3': 12}               36  "
      ]
     },
     "execution_count": 261,
     "metadata": {},
     "output_type": "execute_result"
    }
   ],
   "source": [
    "new_f[new_f.index == 290]"
   ]
  },
  {
   "cell_type": "code",
   "execution_count": 262,
   "metadata": {},
   "outputs": [
    {
     "data": {
      "text/html": [
       "<div>\n",
       "<style scoped>\n",
       "    .dataframe tbody tr th:only-of-type {\n",
       "        vertical-align: middle;\n",
       "    }\n",
       "\n",
       "    .dataframe tbody tr th {\n",
       "        vertical-align: top;\n",
       "    }\n",
       "\n",
       "    .dataframe thead th {\n",
       "        text-align: right;\n",
       "    }\n",
       "</style>\n",
       "<table border=\"1\" class=\"dataframe\">\n",
       "  <thead>\n",
       "    <tr style=\"text-align: right;\">\n",
       "      <th></th>\n",
       "      <th>index</th>\n",
       "      <th>id</th>\n",
       "      <th>name</th>\n",
       "      <th>dateStart</th>\n",
       "      <th>dateEnd</th>\n",
       "      <th>type</th>\n",
       "      <th>season</th>\n",
       "      <th>orgcommittee</th>\n",
       "      <th>synchData</th>\n",
       "      <th>questionQty</th>\n",
       "      <th>total_questions</th>\n",
       "    </tr>\n",
       "  </thead>\n",
       "  <tbody>\n",
       "    <tr>\n",
       "      <th>190</th>\n",
       "      <td>190</td>\n",
       "      <td>5726</td>\n",
       "      <td>Первый турнир имени Джоуи Триббиани</td>\n",
       "      <td>2019-06-28</td>\n",
       "      <td>2019-09-26T18:00:00+03:00</td>\n",
       "      <td>[0.0, 0.0, 0.0, 0.0, 0.0, 0.0, 0.0, 0.0, 1.0]</td>\n",
       "      <td>/seasons/53</td>\n",
       "      <td>[{'id': 121355, 'name': 'Виталий', 'patronymic...</td>\n",
       "      <td>{'dateRequestsAllowedTo': '2019-09-25T23:59:59...</td>\n",
       "      <td>{'1': 12, '2': 12, '3': 12}</td>\n",
       "      <td>36</td>\n",
       "    </tr>\n",
       "  </tbody>\n",
       "</table>\n",
       "</div>"
      ],
      "text/plain": [
       "     index    id                                 name  dateStart  \\\n",
       "190    190  5726  Первый турнир имени Джоуи Триббиани 2019-06-28   \n",
       "\n",
       "                       dateEnd                                           type  \\\n",
       "190  2019-09-26T18:00:00+03:00  [0.0, 0.0, 0.0, 0.0, 0.0, 0.0, 0.0, 0.0, 1.0]   \n",
       "\n",
       "          season                                       orgcommittee  \\\n",
       "190  /seasons/53  [{'id': 121355, 'name': 'Виталий', 'patronymic...   \n",
       "\n",
       "                                             synchData  \\\n",
       "190  {'dateRequestsAllowedTo': '2019-09-25T23:59:59...   \n",
       "\n",
       "                     questionQty  total_questions  \n",
       "190  {'1': 12, '2': 12, '3': 12}               36  "
      ]
     },
     "execution_count": 262,
     "metadata": {},
     "output_type": "execute_result"
    }
   ],
   "source": [
    "new_f[new_f.index == 190]"
   ]
  },
  {
   "cell_type": "code",
   "execution_count": 263,
   "metadata": {},
   "outputs": [
    {
     "data": {
      "text/html": [
       "<div>\n",
       "<style scoped>\n",
       "    .dataframe tbody tr th:only-of-type {\n",
       "        vertical-align: middle;\n",
       "    }\n",
       "\n",
       "    .dataframe tbody tr th {\n",
       "        vertical-align: top;\n",
       "    }\n",
       "\n",
       "    .dataframe thead th {\n",
       "        text-align: right;\n",
       "    }\n",
       "</style>\n",
       "<table border=\"1\" class=\"dataframe\">\n",
       "  <thead>\n",
       "    <tr style=\"text-align: right;\">\n",
       "      <th></th>\n",
       "      <th>index</th>\n",
       "      <th>id</th>\n",
       "      <th>name</th>\n",
       "      <th>dateStart</th>\n",
       "      <th>dateEnd</th>\n",
       "      <th>type</th>\n",
       "      <th>season</th>\n",
       "      <th>orgcommittee</th>\n",
       "      <th>synchData</th>\n",
       "      <th>questionQty</th>\n",
       "      <th>total_questions</th>\n",
       "    </tr>\n",
       "  </thead>\n",
       "  <tbody>\n",
       "    <tr>\n",
       "      <th>291</th>\n",
       "      <td>291</td>\n",
       "      <td>5965</td>\n",
       "      <td>ОЧВР. 1 тур</td>\n",
       "      <td>2019-10-18</td>\n",
       "      <td>2019-10-23T19:00:00+03:00</td>\n",
       "      <td>[0.0, 0.0, 0.0, 1.0, 0.0, 0.0, 0.0, 0.0, 0.0]</td>\n",
       "      <td>/seasons/53</td>\n",
       "      <td>[{'id': 26469, 'name': 'Алексей', 'patronymic'...</td>\n",
       "      <td>{'dateRequestsAllowedTo': '2019-10-23T23:59:59...</td>\n",
       "      <td>{'1': 12, '2': 12, '3': 12}</td>\n",
       "      <td>36</td>\n",
       "    </tr>\n",
       "  </tbody>\n",
       "</table>\n",
       "</div>"
      ],
      "text/plain": [
       "     index    id         name  dateStart                    dateEnd  \\\n",
       "291    291  5965  ОЧВР. 1 тур 2019-10-18  2019-10-23T19:00:00+03:00   \n",
       "\n",
       "                                              type       season  \\\n",
       "291  [0.0, 0.0, 0.0, 1.0, 0.0, 0.0, 0.0, 0.0, 0.0]  /seasons/53   \n",
       "\n",
       "                                          orgcommittee  \\\n",
       "291  [{'id': 26469, 'name': 'Алексей', 'patronymic'...   \n",
       "\n",
       "                                             synchData  \\\n",
       "291  {'dateRequestsAllowedTo': '2019-10-23T23:59:59...   \n",
       "\n",
       "                     questionQty  total_questions  \n",
       "291  {'1': 12, '2': 12, '3': 12}               36  "
      ]
     },
     "execution_count": 263,
     "metadata": {},
     "output_type": "execute_result"
    }
   ],
   "source": [
    "new_f[new_f.index == 291]"
   ]
  },
  {
   "cell_type": "markdown",
   "metadata": {},
   "source": [
    "### Самые сложные турниры"
   ]
  },
  {
   "cell_type": "code",
   "execution_count": 264,
   "metadata": {},
   "outputs": [
    {
     "data": {
      "text/html": [
       "<div>\n",
       "<style scoped>\n",
       "    .dataframe tbody tr th:only-of-type {\n",
       "        vertical-align: middle;\n",
       "    }\n",
       "\n",
       "    .dataframe tbody tr th {\n",
       "        vertical-align: top;\n",
       "    }\n",
       "\n",
       "    .dataframe thead th {\n",
       "        text-align: right;\n",
       "    }\n",
       "</style>\n",
       "<table border=\"1\" class=\"dataframe\">\n",
       "  <thead>\n",
       "    <tr style=\"text-align: right;\">\n",
       "      <th></th>\n",
       "      <th>index</th>\n",
       "      <th>id</th>\n",
       "      <th>name</th>\n",
       "      <th>dateStart</th>\n",
       "      <th>dateEnd</th>\n",
       "      <th>type</th>\n",
       "      <th>season</th>\n",
       "      <th>orgcommittee</th>\n",
       "      <th>synchData</th>\n",
       "      <th>questionQty</th>\n",
       "      <th>total_questions</th>\n",
       "    </tr>\n",
       "  </thead>\n",
       "  <tbody>\n",
       "    <tr>\n",
       "      <th>39</th>\n",
       "      <td>39</td>\n",
       "      <td>5390</td>\n",
       "      <td>Открытый Синхронный кубок Беларуси</td>\n",
       "      <td>2019-02-15</td>\n",
       "      <td>2019-02-19T00:00:00+03:00</td>\n",
       "      <td>[0.0, 0.0, 0.0, 1.0, 0.0, 0.0, 0.0, 0.0, 0.0]</td>\n",
       "      <td>/seasons/52</td>\n",
       "      <td>[{'id': 53126, 'name': 'Василий', 'patronymic'...</td>\n",
       "      <td>{'dateRequestsAllowedTo': '2019-02-19T23:59:59...</td>\n",
       "      <td>{'1': 12, '2': 12, '3': 12}</td>\n",
       "      <td>36</td>\n",
       "    </tr>\n",
       "  </tbody>\n",
       "</table>\n",
       "</div>"
      ],
      "text/plain": [
       "    index    id                                name  dateStart  \\\n",
       "39     39  5390  Открытый Синхронный кубок Беларуси 2019-02-15   \n",
       "\n",
       "                      dateEnd                                           type  \\\n",
       "39  2019-02-19T00:00:00+03:00  [0.0, 0.0, 0.0, 1.0, 0.0, 0.0, 0.0, 0.0, 0.0]   \n",
       "\n",
       "         season                                       orgcommittee  \\\n",
       "39  /seasons/52  [{'id': 53126, 'name': 'Василий', 'patronymic'...   \n",
       "\n",
       "                                            synchData  \\\n",
       "39  {'dateRequestsAllowedTo': '2019-02-19T23:59:59...   \n",
       "\n",
       "                    questionQty  total_questions  \n",
       "39  {'1': 12, '2': 12, '3': 12}               36  "
      ]
     },
     "execution_count": 264,
     "metadata": {},
     "output_type": "execute_result"
    }
   ],
   "source": [
    "new_f[new_f.index == 39]"
   ]
  },
  {
   "cell_type": "code",
   "execution_count": 265,
   "metadata": {},
   "outputs": [
    {
     "data": {
      "text/html": [
       "<div>\n",
       "<style scoped>\n",
       "    .dataframe tbody tr th:only-of-type {\n",
       "        vertical-align: middle;\n",
       "    }\n",
       "\n",
       "    .dataframe tbody tr th {\n",
       "        vertical-align: top;\n",
       "    }\n",
       "\n",
       "    .dataframe thead th {\n",
       "        text-align: right;\n",
       "    }\n",
       "</style>\n",
       "<table border=\"1\" class=\"dataframe\">\n",
       "  <thead>\n",
       "    <tr style=\"text-align: right;\">\n",
       "      <th></th>\n",
       "      <th>index</th>\n",
       "      <th>id</th>\n",
       "      <th>name</th>\n",
       "      <th>dateStart</th>\n",
       "      <th>dateEnd</th>\n",
       "      <th>type</th>\n",
       "      <th>season</th>\n",
       "      <th>orgcommittee</th>\n",
       "      <th>synchData</th>\n",
       "      <th>questionQty</th>\n",
       "      <th>total_questions</th>\n",
       "    </tr>\n",
       "  </thead>\n",
       "  <tbody>\n",
       "    <tr>\n",
       "      <th>178</th>\n",
       "      <td>178</td>\n",
       "      <td>5684</td>\n",
       "      <td>Синхрон высшей лиги Москвы</td>\n",
       "      <td>2019-06-14</td>\n",
       "      <td>2019-06-18T19:00:00+03:00</td>\n",
       "      <td>[0.0, 0.0, 0.0, 1.0, 0.0, 0.0, 0.0, 0.0, 0.0]</td>\n",
       "      <td>/seasons/52</td>\n",
       "      <td>[{'id': 38458, 'name': 'Екатерина', 'patronymi...</td>\n",
       "      <td>{'dateRequestsAllowedTo': '2019-06-17T23:59:59...</td>\n",
       "      <td>{'1': 12, '2': 12, '3': 12}</td>\n",
       "      <td>36</td>\n",
       "    </tr>\n",
       "  </tbody>\n",
       "</table>\n",
       "</div>"
      ],
      "text/plain": [
       "     index    id                        name  dateStart  \\\n",
       "178    178  5684  Синхрон высшей лиги Москвы 2019-06-14   \n",
       "\n",
       "                       dateEnd                                           type  \\\n",
       "178  2019-06-18T19:00:00+03:00  [0.0, 0.0, 0.0, 1.0, 0.0, 0.0, 0.0, 0.0, 0.0]   \n",
       "\n",
       "          season                                       orgcommittee  \\\n",
       "178  /seasons/52  [{'id': 38458, 'name': 'Екатерина', 'patronymi...   \n",
       "\n",
       "                                             synchData  \\\n",
       "178  {'dateRequestsAllowedTo': '2019-06-17T23:59:59...   \n",
       "\n",
       "                     questionQty  total_questions  \n",
       "178  {'1': 12, '2': 12, '3': 12}               36  "
      ]
     },
     "execution_count": 265,
     "metadata": {},
     "output_type": "execute_result"
    }
   ],
   "source": [
    "new_f[new_f.index == 178]"
   ]
  },
  {
   "cell_type": "code",
   "execution_count": 266,
   "metadata": {},
   "outputs": [
    {
     "data": {
      "text/html": [
       "<div>\n",
       "<style scoped>\n",
       "    .dataframe tbody tr th:only-of-type {\n",
       "        vertical-align: middle;\n",
       "    }\n",
       "\n",
       "    .dataframe tbody tr th {\n",
       "        vertical-align: top;\n",
       "    }\n",
       "\n",
       "    .dataframe thead th {\n",
       "        text-align: right;\n",
       "    }\n",
       "</style>\n",
       "<table border=\"1\" class=\"dataframe\">\n",
       "  <thead>\n",
       "    <tr style=\"text-align: right;\">\n",
       "      <th></th>\n",
       "      <th>index</th>\n",
       "      <th>id</th>\n",
       "      <th>name</th>\n",
       "      <th>dateStart</th>\n",
       "      <th>dateEnd</th>\n",
       "      <th>type</th>\n",
       "      <th>season</th>\n",
       "      <th>orgcommittee</th>\n",
       "      <th>synchData</th>\n",
       "      <th>questionQty</th>\n",
       "      <th>total_questions</th>\n",
       "    </tr>\n",
       "  </thead>\n",
       "  <tbody>\n",
       "    <tr>\n",
       "      <th>251</th>\n",
       "      <td>251</td>\n",
       "      <td>5516</td>\n",
       "      <td>Синхрон Моносова</td>\n",
       "      <td>2019-09-13</td>\n",
       "      <td>2019-09-17T19:00:00+03:00</td>\n",
       "      <td>[0.0, 0.0, 0.0, 1.0, 0.0, 0.0, 0.0, 0.0, 0.0]</td>\n",
       "      <td>/seasons/53</td>\n",
       "      <td>[{'id': 21487, 'name': 'Борис', 'patronymic': ...</td>\n",
       "      <td>{'dateRequestsAllowedTo': '2019-09-17T23:59:59...</td>\n",
       "      <td>{'1': 12, '2': 12, '3': 12}</td>\n",
       "      <td>36</td>\n",
       "    </tr>\n",
       "  </tbody>\n",
       "</table>\n",
       "</div>"
      ],
      "text/plain": [
       "     index    id              name  dateStart                    dateEnd  \\\n",
       "251    251  5516  Синхрон Моносова 2019-09-13  2019-09-17T19:00:00+03:00   \n",
       "\n",
       "                                              type       season  \\\n",
       "251  [0.0, 0.0, 0.0, 1.0, 0.0, 0.0, 0.0, 0.0, 0.0]  /seasons/53   \n",
       "\n",
       "                                          orgcommittee  \\\n",
       "251  [{'id': 21487, 'name': 'Борис', 'patronymic': ...   \n",
       "\n",
       "                                             synchData  \\\n",
       "251  {'dateRequestsAllowedTo': '2019-09-17T23:59:59...   \n",
       "\n",
       "                     questionQty  total_questions  \n",
       "251  {'1': 12, '2': 12, '3': 12}               36  "
      ]
     },
     "execution_count": 266,
     "metadata": {},
     "output_type": "execute_result"
    }
   ],
   "source": [
    "new_f[new_f.index == 251]"
   ]
  },
  {
   "cell_type": "code",
   "execution_count": 267,
   "metadata": {},
   "outputs": [
    {
     "data": {
      "text/html": [
       "<div>\n",
       "<style scoped>\n",
       "    .dataframe tbody tr th:only-of-type {\n",
       "        vertical-align: middle;\n",
       "    }\n",
       "\n",
       "    .dataframe tbody tr th {\n",
       "        vertical-align: top;\n",
       "    }\n",
       "\n",
       "    .dataframe thead th {\n",
       "        text-align: right;\n",
       "    }\n",
       "</style>\n",
       "<table border=\"1\" class=\"dataframe\">\n",
       "  <thead>\n",
       "    <tr style=\"text-align: right;\">\n",
       "      <th></th>\n",
       "      <th>index</th>\n",
       "      <th>id</th>\n",
       "      <th>name</th>\n",
       "      <th>dateStart</th>\n",
       "      <th>dateEnd</th>\n",
       "      <th>type</th>\n",
       "      <th>season</th>\n",
       "      <th>orgcommittee</th>\n",
       "      <th>synchData</th>\n",
       "      <th>questionQty</th>\n",
       "      <th>total_questions</th>\n",
       "    </tr>\n",
       "  </thead>\n",
       "  <tbody>\n",
       "    <tr>\n",
       "      <th>312</th>\n",
       "      <td>312</td>\n",
       "      <td>5718</td>\n",
       "      <td>Топ-1000</td>\n",
       "      <td>2019-11-07</td>\n",
       "      <td>2019-11-13T23:55:00+03:00</td>\n",
       "      <td>[0.0, 0.0, 0.0, 1.0, 0.0, 0.0, 0.0, 0.0, 0.0]</td>\n",
       "      <td>/seasons/53</td>\n",
       "      <td>[{'id': 21487, 'name': 'Борис', 'patronymic': ...</td>\n",
       "      <td>{'dateRequestsAllowedTo': '2019-11-13T23:59:00...</td>\n",
       "      <td>{'1': 12, '2': 12, '3': 12}</td>\n",
       "      <td>36</td>\n",
       "    </tr>\n",
       "  </tbody>\n",
       "</table>\n",
       "</div>"
      ],
      "text/plain": [
       "     index    id      name  dateStart                    dateEnd  \\\n",
       "312    312  5718  Топ-1000 2019-11-07  2019-11-13T23:55:00+03:00   \n",
       "\n",
       "                                              type       season  \\\n",
       "312  [0.0, 0.0, 0.0, 1.0, 0.0, 0.0, 0.0, 0.0, 0.0]  /seasons/53   \n",
       "\n",
       "                                          orgcommittee  \\\n",
       "312  [{'id': 21487, 'name': 'Борис', 'patronymic': ...   \n",
       "\n",
       "                                             synchData  \\\n",
       "312  {'dateRequestsAllowedTo': '2019-11-13T23:59:00...   \n",
       "\n",
       "                     questionQty  total_questions  \n",
       "312  {'1': 12, '2': 12, '3': 12}               36  "
      ]
     },
     "execution_count": 267,
     "metadata": {},
     "output_type": "execute_result"
    }
   ],
   "source": [
    "new_f[new_f.index == 312]"
   ]
  },
  {
   "cell_type": "markdown",
   "metadata": {},
   "source": [
    "В целом все кажется достаточно адекатно"
   ]
  },
  {
   "cell_type": "code",
   "execution_count": null,
   "metadata": {},
   "outputs": [],
   "source": []
  }
 ],
 "metadata": {
  "kernelspec": {
   "display_name": "Python 3",
   "language": "python",
   "name": "python3"
  },
  "language_info": {
   "codemirror_mode": {
    "name": "ipython",
    "version": 3
   },
   "file_extension": ".py",
   "mimetype": "text/x-python",
   "name": "python",
   "nbconvert_exporter": "python",
   "pygments_lexer": "ipython3",
   "version": "3.7.3"
  }
 },
 "nbformat": 4,
 "nbformat_minor": 2
}
